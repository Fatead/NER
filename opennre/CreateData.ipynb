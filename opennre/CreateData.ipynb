{
 "cells": [
  {
   "cell_type": "code",
   "execution_count": 1,
   "metadata": {},
   "outputs": [],
   "source": [
    "import collections"
   ]
  },
  {
   "cell_type": "code",
   "execution_count": 2,
   "metadata": {},
   "outputs": [],
   "source": [
    "# 从sent文件中读取数据生成sent的字典，路径需要修改##\n",
    "f = open(\"zh_wikidata_data_enhancement\\\\train\\\\rs_sent_train.txt\", 'r', encoding='UTF-8')    # sent_train/dev/test\n",
    "line = f.readline()\n",
    "sent_dict = collections.OrderedDict()\n",
    "while line:\n",
    "    line = line.replace(\"\\n\",\"\")\n",
    "    line_eles = line.split(\"\\t\")\n",
    "    if line_eles[0] not in sent_dict:\n",
    "        sent_dict[line_eles[0]] = line_eles\n",
    "    line = f.readline()\n",
    "f.close()"
   ]
  },
  {
   "cell_type": "code",
   "execution_count": 3,
   "metadata": {},
   "outputs": [],
   "source": [
    "# 从sent_relation文件中读取数据生成sent_relation的字典，路径需要修改##\n",
    "f = open(\"zh_wikidata_data_enhancement\\\\train\\\\rs_sent_relation.txt\", 'r', encoding='UTF-8')    # sent_relation_train/dev/test\n",
    "line = f.readline()\n",
    "sent_relation_dict = collections.OrderedDict()\n",
    "while line:\n",
    "    line = line.replace(\"\\n\",\"\")\n",
    "    line_eles = line.split(\"\\t\")\n",
    "    if line_eles[0] not in sent_relation_dict:\n",
    "        sent_relation_dict[line_eles[0]] = line_eles\n",
    "    line = f.readline()\n",
    "f.close()"
   ]
  },
  {
   "cell_type": "code",
   "execution_count": 4,
   "metadata": {},
   "outputs": [],
   "source": [
    "# 根据sentID将sent的字典与sent_relation的字典合并\n",
    "for key in sent_dict:\n",
    "    sent_dict[key] = sent_dict[key] + sent_relation_dict[key]"
   ]
  },
  {
   "cell_type": "code",
   "execution_count": 5,
   "metadata": {},
   "outputs": [],
   "source": [
    "# 生成id与relation的字典，共用一个文件中的内容\n",
    "f = open(\"data\\\\relation2id.txt\", 'r', encoding='UTF-8')\n",
    "line = f.readline()\n",
    "relation2id_dict = collections.OrderedDict()\n",
    "while line:\n",
    "    line = line.replace(\"\\n\",\"\")\n",
    "    line_eles = line.split(\"\\t\")\n",
    "    if line_eles[1] not in relation2id_dict:\n",
    "        relation2id_dict[line_eles[1]] = line_eles[0]\n",
    "    line = f.readline()\n",
    "f.close()"
   ]
  },
  {
   "cell_type": "code",
   "execution_count": 6,
   "metadata": {},
   "outputs": [],
   "source": [
    "def tranStr2List(orign):\n",
    "    orign = orign.replace('[', '')\n",
    "    orign = orign.replace(']', '')\n",
    "    orign = orign.replace(' ', '')\n",
    "    orign = orign.split(',')\n",
    "    for ele in range(len(orign)):\n",
    "        orign[ele] = int(orign[ele])\n",
    "    return orign"
   ]
  },
  {
   "cell_type": "code",
   "execution_count": 7,
   "metadata": {},
   "outputs": [],
   "source": [
    "# 构造OpenNRE数据\n",
    "result = []\n",
    "for key in sent_dict:\n",
    "    for rela_id in sent_dict[key][9].split():\n",
    "        ele_dict = collections.OrderedDict()\n",
    "        ele_dict['text'] = sent_dict[key][7]\n",
    "        ele_dict['relation'] = relation2id_dict[rela_id]\n",
    "\n",
    "        h_dict = collections.OrderedDict()\n",
    "        h_dict['id'] = sent_dict[key][2]\n",
    "        h_dict['name'] = sent_dict[key][1]\n",
    "        h_dict['pos'] = tranStr2List(sent_dict[key][3])\n",
    "        ele_dict['h'] = h_dict\n",
    "\n",
    "        t_dict = collections.OrderedDict()\n",
    "        t_dict['id'] = sent_dict[key][5]\n",
    "        t_dict['name'] = sent_dict[key][4]\n",
    "        t_dict['pos'] = tranStr2List(sent_dict[key][6])\n",
    "        ele_dict['t'] = t_dict\n",
    "\n",
    "        result.append(ele_dict)"
   ]
  },
  {
   "cell_type": "code",
   "execution_count": 8,
   "metadata": {},
   "outputs": [],
   "source": [
    "# 路径需要修改##\n",
    "# 将构造好的OpenNRE数据写入文件\n",
    "import json\n",
    "\n",
    "f = open('OpenNRE_Data_5\\\\train.txt', 'w', encoding='UTF-8')  # train/test/val\n",
    "for ele in result:\n",
    "    ele = json.dumps(ele, ensure_ascii=False)\n",
    "    f.write(ele)\n",
    "    f.write('\\n')\n",
    "f.close()"
   ]
  },
  {
   "cell_type": "code",
   "execution_count": 9,
   "metadata": {},
   "outputs": [],
   "source": [
    "# # 读取relation2id.txt并生成对应的字典\n",
    "# import collections\n",
    "\n",
    "# f = open(\"data\\\\relation2id.txt\", 'r', encoding='UTF-8')\n",
    "# line = f.readline()\n",
    "# relation2id_dict = collections.OrderedDict()\n",
    "# while line:\n",
    "#     line = line.replace(\"\\n\",\"\")\n",
    "#     line_eles = line.split(\"\\t\")\n",
    "#     if line_eles[0] not in relation2id_dict:\n",
    "#         relation2id_dict[line_eles[0]] = int(line_eles[1])\n",
    "#     line = f.readline()\n",
    "# f.close()"
   ]
  },
  {
   "cell_type": "code",
   "execution_count": 10,
   "metadata": {},
   "outputs": [],
   "source": [
    "# # 将由relation2id.txt生成的字典存入文件\n",
    "# import json\n",
    "\n",
    "# f = open('OpenNRE_Data\\\\rel2id.json', 'w', encoding='UTF-8')\n",
    "# json.dump(relation2id_dict, f, ensure_ascii=False)\n",
    "# f.close()"
   ]
  },
  {
   "cell_type": "code",
   "execution_count": 11,
   "metadata": {},
   "outputs": [],
   "source": [
    "def combine(file_1, file_2, file_com):\n",
    "    f_1 = open(file_1, 'r', encoding='UTF-8')\n",
    "    f_1_content = f_1.read()\n",
    "    f_1.close()\n",
    "    \n",
    "    f_2 = open(file_2, 'r', encoding='UTF-8')\n",
    "    f_2_content = f_2.read()\n",
    "    f_2.close()\n",
    "    \n",
    "    f_com_content = f_1_content + f_2_content\n",
    "    f_com = open(file_com, 'a', encoding='UTF-8')\n",
    "    f_com.write(f_com_content)\n",
    "    f_com.close()\n",
    "\n",
    "combine(\"OpenNRE_Data_1\\\\train_1.txt\", \"OpenNRE_Data_1\\\\train_2.txt\", \"OpenNRE_Data\\\\train.txt\")"
   ]
  },
  {
   "cell_type": "code",
   "execution_count": 25,
   "metadata": {},
   "outputs": [],
   "source": [
    "def combine(file_1, file_com):\n",
    "    f_1 = open(file_1, 'r', encoding='UTF-8')\n",
    "    f_1_content = f_1.read()\n",
    "    f_1.close()\n",
    "    \n",
    "    f_com_content = f_1_content\n",
    "    f_com = open(file_com, 'a', encoding='UTF-8')\n",
    "    f_com.write(f_com_content)\n",
    "    f_com.close()\n",
    "\n",
    "combine(\"OpenNRE_Data_5\\\\val.txt\", \"OpenNRE_Data\\\\val.txt\")"
   ]
  },
  {
   "cell_type": "code",
   "execution_count": null,
   "metadata": {},
   "outputs": [],
   "source": []
  }
 ],
 "metadata": {
  "kernelspec": {
   "display_name": "Python 3",
   "language": "python",
   "name": "python3"
  },
  "language_info": {
   "codemirror_mode": {
    "name": "ipython",
    "version": 3
   },
   "file_extension": ".py",
   "mimetype": "text/x-python",
   "name": "python",
   "nbconvert_exporter": "python",
   "pygments_lexer": "ipython3",
   "version": "3.5.2"
  }
 },
 "nbformat": 4,
 "nbformat_minor": 2
}
